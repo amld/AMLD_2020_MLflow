{
 "cells": [
  {
   "cell_type": "code",
   "execution_count": null,
   "metadata": {},
   "outputs": [],
   "source": [
    "from __future__ import print_function\n",
    "import time\n",
    "import mlflow\n",
    "from mlflow.entities import Param, Metric, RunTag"
   ]
  },
  {
   "cell_type": "code",
   "execution_count": null,
   "metadata": {},
   "outputs": [],
   "source": [
    "print(\"MLflow Version: \", mlflow.version.VERSION)\n",
    "\n",
    "mlflow.set_tracking_uri(\"http://localhost:5000\")\n",
    "print(\"Tracking URI: \", mlflow.tracking.get_tracking_uri())"
   ]
  },
  {
   "cell_type": "code",
   "execution_count": null,
   "metadata": {},
   "outputs": [],
   "source": [
    "experiment_name = \"hello_world\"\n",
    "print(\"experiment_name: \", experiment_name)\n",
    "mlflow.set_experiment(experiment_name)\n",
    "\n",
    "client = mlflow.tracking.MlflowClient()\n",
    "experiment_id = client.get_experiment_by_name(experiment_name).experiment_id\n",
    "print(\"experiment_id: \", experiment_id)\n",
    "\n",
    "now = int(time.time()+.5)"
   ]
  },
  {
   "cell_type": "code",
   "execution_count": null,
   "metadata": {},
   "outputs": [],
   "source": [
    "# run function w/ three parameters alpha, run_origin, log_artifact\n",
    "def run(alpha, run_origin, log_artifact):\n",
    "\n",
    "    # create run context for tracking\n",
    "    with mlflow.start_run(run_name=run_origin) as run:\n",
    "        # Print info to CLI: run ID, artifact URI, alpha, log_artifact, run_origin\n",
    "        print(\"runId: \", run.info.run_id)\n",
    "        print(\"artifact_uri: \", mlflow.get_artifact_uri())\n",
    "        print(\"alpha: \", alpha)\n",
    "        print(\"log_artifact: \", log_artifact)\n",
    "        print(\"run_origin: \", run_origin)\n",
    "\n",
    "        # Log to MLflow server: alpha as parameter, metric of own choice, run_origin and\n",
    "        # log_artifact as tags\n",
    "        mlflow.log_param(\"alpha\", alpha)\n",
    "        mlflow.log_metric(\"rmse\", 0.789)\n",
    "        mlflow.set_tag(\"run_origin\", run_origin)\n",
    "        mlflow.set_tag(\"log_artifact\", log_artifact)\n",
    "\n",
    "        # If log_artifact is True, then create info.txt file and log it\n",
    "        if log_artifact:\n",
    "            with open(\"info.txt\", \"w\") as f:\n",
    "                f.write(\"Hi artifact\")\n",
    "            mlflow.log_artifact(\"info.txt\")\n",
    "\n",
    "        # Use log_batch method of MLflowClient class to log multiple entities at once: Param,\n",
    "        # Metric, and RunTag of mlflow.entities w/ values of own choice\n",
    "        params = [Param(\"p1\", \"0.1\"), Param(\"p2\", \"0.2\")]\n",
    "        metrics = [Metric(\"m1\", 0.1, now, 1), Metric(\"m2\", 0.2, now, 2)]\n",
    "        tags = [RunTag(\"t1\", \"hi1\"), RunTag(\"t2\", \"hi2\")]\n",
    "\n",
    "        client.log_batch(run.info.run_id, metrics, params, tags)"
   ]
  },
  {
   "cell_type": "code",
   "execution_count": null,
   "metadata": {},
   "outputs": [],
   "source": [
    "run(\"0.1\", \"jupyter\", True)"
   ]
  },
  {
   "cell_type": "code",
   "execution_count": null,
   "metadata": {},
   "outputs": [],
   "source": [
    "run(\"0.5\", \"jupyter\", True)"
   ]
  },
  {
   "cell_type": "code",
   "execution_count": null,
   "metadata": {},
   "outputs": [],
   "source": [
    "run(\"0.01\", \"jupyter\", False)"
   ]
  },
  {
   "cell_type": "markdown",
   "metadata": {},
   "source": [
    "Windows"
   ]
  },
  {
   "cell_type": "code",
   "execution_count": null,
   "metadata": {},
   "outputs": [],
   "source": [
    "! set \"MLFLOW_TRACKING_URI=http://localhost:5000\" \\\n",
    "    & python 113_hello_world.py --log_artifact True --run_origin PythonRun --alpha 0.291"
   ]
  },
  {
   "cell_type": "markdown",
   "metadata": {},
   "source": [
    "Linux"
   ]
  },
  {
   "cell_type": "code",
   "execution_count": null,
   "metadata": {},
   "outputs": [],
   "source": [
    "! export MLFLOW_TRACKING_URI=http://localhost:5000 \\\n",
    "    && python 113_hello_world.py --log_artifact True --run_origin PythonRun --alpha 0.291"
   ]
  }
 ],
 "metadata": {
  "@webio": {
   "lastCommId": null,
   "lastKernelId": null
  },
  "kernelspec": {
   "display_name": "Python (MLflow sklearn)",
   "language": "python",
   "name": "mlflow_sklearn"
  },
  "language_info": {
   "codemirror_mode": {
    "name": "ipython",
    "version": 3
   },
   "file_extension": ".py",
   "mimetype": "text/x-python",
   "name": "python",
   "nbconvert_exporter": "python",
   "pygments_lexer": "ipython3",
   "version": "3.6.10"
  }
 },
 "nbformat": 4,
 "nbformat_minor": 2
}
