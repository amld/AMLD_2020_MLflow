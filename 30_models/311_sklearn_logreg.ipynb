{
 "cells": [
  {
   "cell_type": "markdown",
   "metadata": {},
   "source": [
    "# Extension of logistic regression example\n",
    "\n",
    "Please modify the code developed before to also log `sklearn` model to MLflow server. Load one of the logged models and predict the labels of the given dataset."
   ]
  },
  {
   "cell_type": "markdown",
   "metadata": {},
   "source": [
    "**Task**: add additional module to work with `sklearn` flavor."
   ]
  },
  {
   "cell_type": "code",
   "execution_count": null,
   "metadata": {},
   "outputs": [],
   "source": [
    "from __future__ import print_function\n",
    "\n",
    "import numpy as np\n",
    "from sklearn import datasets\n",
    "from sklearn.model_selection import train_test_split\n",
    "from sklearn.linear_model import LogisticRegression\n",
    "from sklearn.metrics import precision_score, recall_score, f1_score, plot_confusion_matrix, plot_roc_curve\n",
    "import matplotlib.pyplot as plt\n",
    "\n",
    "import mlflow"
   ]
  },
  {
   "cell_type": "code",
   "execution_count": null,
   "metadata": {
    "scrolled": true
   },
   "outputs": [],
   "source": [
    "mlflow.set_tracking_uri(\"http://localhost:5000\")\n",
    "print(\"Tracking URI: \", mlflow.tracking.get_tracking_uri())"
   ]
  },
  {
   "cell_type": "code",
   "execution_count": null,
   "metadata": {},
   "outputs": [],
   "source": [
    "experiment_name = \"sklearn_logistic_regression\"\n",
    "print(\"experiment_name: \", experiment_name)\n",
    "mlflow.set_experiment(experiment_name)\n",
    "\n",
    "client = mlflow.tracking.MlflowClient()\n",
    "experiment_id = client.get_experiment_by_name(experiment_name).experiment_id\n",
    "print(\"experiment_id: \", experiment_id)"
   ]
  },
  {
   "cell_type": "code",
   "execution_count": null,
   "metadata": {},
   "outputs": [],
   "source": [
    "np.random.seed(137)"
   ]
  },
  {
   "cell_type": "code",
   "execution_count": null,
   "metadata": {},
   "outputs": [],
   "source": [
    "X, y = datasets.make_classification(n_samples=1000, \n",
    "                                    n_features=2,\n",
    "                                    n_informative=2,\n",
    "                                    n_redundant=0,\n",
    "                                    n_repeated=0,\n",
    "                                    n_classes=2)"
   ]
  },
  {
   "cell_type": "markdown",
   "metadata": {},
   "source": [
    "**Tasks**: Modify `run` function to allow for logging the `sklearn` model.\n",
    "* add boolean parameter `log_model` to define if model should be logged or not\n",
    "* add tag `log_model` with respective value to MLflow server\n",
    "* log `sklearn` model to MLflow server in case `log_model` is `True`\n",
    "* execute `run` function with given parameters"
   ]
  },
  {
   "cell_type": "code",
   "execution_count": null,
   "metadata": {},
   "outputs": [],
   "source": [
    "def run(X, y, penalty='l2'):\n",
    "    \n",
    "    solver = \"saga\"\n",
    "    if penalty is \"elasticnet\":\n",
    "        l1_ratio = 0.5\n",
    "    else:\n",
    "        l1_ratio = None\n",
    "    \n",
    "    X_train, X_test, y_train, y_test = train_test_split(X, y, random_state=42)\n",
    "    \n",
    "    with mlflow.start_run(run_name=\"jupyter\") as run:\n",
    "        lr = LogisticRegression(penalty=penalty, solver=solver, l1_ratio=l1_ratio)\n",
    "        lr.fit(X_train, y_train)\n",
    "        score_train = lr.score(X_train, y_train)\n",
    "        score_test = lr.score(X_test, y_test)\n",
    "\n",
    "        prec_test = precision_score(y_test, lr.predict(X_test))\n",
    "        rec_test = recall_score(y_test, lr.predict(X_test))\n",
    "        f1_test = f1_score(y_test, lr.predict(X_test))\n",
    "\n",
    "        print(\"hyperparameters: \", lr.get_params())\n",
    "        print(\"train score: \", score_train)\n",
    "        print(\"test score: \", score_test)\n",
    "        print(\"test precision: \", prec_test)\n",
    "        print(\"test recall: \", rec_test)\n",
    "        print(\"test f1 score: \", f1_test)\n",
    "        \n",
    "        disp = plot_confusion_matrix(lr, X_test, y_test)\n",
    "        print(disp.confusion_matrix)\n",
    "        plt.savefig(\"sklearn_logreg_conf_mat.png\")\n",
    "\n",
    "        disp = plot_roc_curve(lr, X_test, y_test)\n",
    "        plt.savefig(\"sklearn_logreg_roc_curve.png\")\n",
    "    \n",
    "        print(\"runId: \", run.info.run_id)\n",
    "        print(\"artifact_uri: \", mlflow.get_artifact_uri())\n",
    "        mlflow.log_metrics({\"training score\": score_train, \"test score\": score_test})\n",
    "        mlflow.log_params(lr.get_params())\n",
    "        mlflow.log_artifact(\"sklearn_logreg_conf_mat.png\", \"figures\")\n",
    "        mlflow.log_artifact(\"sklearn_logreg_roc_curve.png\", \"figures\")"
   ]
  },
  {
   "cell_type": "code",
   "execution_count": null,
   "metadata": {
    "scrolled": false
   },
   "outputs": [],
   "source": [
    "run(X, y, \"l2\", True)"
   ]
  },
  {
   "cell_type": "code",
   "execution_count": null,
   "metadata": {},
   "outputs": [],
   "source": [
    "run(X, y, \"l1\", True)"
   ]
  },
  {
   "cell_type": "code",
   "execution_count": null,
   "metadata": {},
   "outputs": [],
   "source": [
    "run(X, y, \"elasticnet\", True)"
   ]
  },
  {
   "cell_type": "markdown",
   "metadata": {},
   "source": [
    "**Tasks**: Load `sklearn` model with `l2`-penalty from MLflow server and predict labels of given `X`.\n",
    "* use `search_runs` method of MlflowClient object to get respective run ID\n",
    "* load model, using `load_model` with `\"runs:/\"` parameter\n",
    "* predict `X`"
   ]
  },
  {
   "cell_type": "code",
   "execution_count": null,
   "metadata": {},
   "outputs": [],
   "source": []
  },
  {
   "cell_type": "markdown",
   "metadata": {},
   "source": [
    "**Tasks**: Create a REST API that uses the model to predict labels of incoming data\n",
    "* use the `mlflow models serve` CLI command to create the API\n",
    "* use `curl` to predict labels"
   ]
  },
  {
   "cell_type": "code",
   "execution_count": null,
   "metadata": {},
   "outputs": [],
   "source": []
  }
 ],
 "metadata": {
  "kernelspec": {
   "display_name": "Python (MLflow sklearn)",
   "language": "python",
   "name": "mlflow_sklearn"
  },
  "language_info": {
   "codemirror_mode": {
    "name": "ipython",
    "version": 3
   },
   "file_extension": ".py",
   "mimetype": "text/x-python",
   "name": "python",
   "nbconvert_exporter": "python",
   "pygments_lexer": "ipython3",
   "version": "3.6.10"
  }
 },
 "nbformat": 4,
 "nbformat_minor": 2
}
